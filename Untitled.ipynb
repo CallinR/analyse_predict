{
 "cells": [
  {
   "cell_type": "code",
   "execution_count": 1,
   "metadata": {},
   "outputs": [
    {
     "name": "stdout",
     "output_type": "stream",
     "text": [
      "Note: you may need to restart the kernel to use updated packages.\n"
     ]
    },
    {
     "name": "stderr",
     "output_type": "stream",
     "text": [
      "\n",
      "Usage:   \n",
      "  C:\\Users\\jayramesh01\\AppData\\Local\\Continuum\\anaconda3\\python.exe -m pip install [options] <requirement specifier> [package-index-options] ...\n",
      "  C:\\Users\\jayramesh01\\AppData\\Local\\Continuum\\anaconda3\\python.exe -m pip install [options] -r <requirements file> [package-index-options] ...\n",
      "  C:\\Users\\jayramesh01\\AppData\\Local\\Continuum\\anaconda3\\python.exe -m pip install [options] [-e] <vcs project url> ...\n",
      "  C:\\Users\\jayramesh01\\AppData\\Local\\Continuum\\anaconda3\\python.exe -m pip install [options] [-e] <local project path> ...\n",
      "  C:\\Users\\jayramesh01\\AppData\\Local\\Continuum\\anaconda3\\python.exe -m pip install [options] <archive url/path> ...\n",
      "\n",
      "no such option: -u\n"
     ]
    }
   ],
   "source": [
    "pip install git+https://github.com/fact-project/smart_fact_crawler -u\n"
   ]
  },
  {
   "cell_type": "code",
   "execution_count": 1,
   "metadata": {},
   "outputs": [
    {
     "name": "stdout",
     "output_type": "stream",
     "text": [
      "Collecting git+https://github.com/CallinR/analyse_predict.git\n",
      "  Cloning https://github.com/CallinR/analyse_predict.git to c:\\users\\jayram~1\\appdata\\local\\temp\\pip-req-build-b0mdt9wh\n"
     ]
    },
    {
     "name": "stderr",
     "output_type": "stream",
     "text": [
      "  Running command git clone -q https://github.com/CallinR/analyse_predict.git 'C:\\Users\\JAYRAM~1\\AppData\\Local\\Temp\\pip-req-build-b0mdt9wh'\n",
      "    ERROR: Command errored out with exit status 1:\n",
      "     command: 'C:\\Users\\jayramesh01\\AppData\\Local\\Continuum\\anaconda3\\python.exe' -c 'import sys, setuptools, tokenize; sys.argv[0] = '\"'\"'C:\\\\Users\\\\JAYRAM~1\\\\AppData\\\\Local\\\\Temp\\\\pip-req-build-b0mdt9wh\\\\setup.py'\"'\"'; __file__='\"'\"'C:\\\\Users\\\\JAYRAM~1\\\\AppData\\\\Local\\\\Temp\\\\pip-req-build-b0mdt9wh\\\\setup.py'\"'\"';f=getattr(tokenize, '\"'\"'open'\"'\"', open)(__file__);code=f.read().replace('\"'\"'\\r\\n'\"'\"', '\"'\"'\\n'\"'\"');f.close();exec(compile(code, __file__, '\"'\"'exec'\"'\"'))' egg_info --egg-base pip-egg-info\n",
      "         cwd: C:\\Users\\JAYRAM~1\\AppData\\Local\\Temp\\pip-req-build-b0mdt9wh\\\n",
      "    Complete output (5 lines):\n",
      "    Traceback (most recent call last):\n",
      "      File \"<string>\", line 1, in <module>\n",
      "      File \"C:\\Users\\jayramesh01\\AppData\\Local\\Continuum\\anaconda3\\lib\\tokenize.py\", line 447, in open\n",
      "        buffer = _builtin_open(filename, 'rb')\n",
      "    FileNotFoundError: [Errno 2] No such file or directory: 'C:\\\\Users\\\\JAYRAM~1\\\\AppData\\\\Local\\\\Temp\\\\pip-req-build-b0mdt9wh\\\\setup.py'\n",
      "    ----------------------------------------\n",
      "ERROR: Command errored out with exit status 1: python setup.py egg_info Check the logs for full command output.\n"
     ]
    }
   ],
   "source": [
    "!pip install git+https://github.com/CallinR/analyse_predict.git -U"
   ]
  },
  {
   "cell_type": "code",
   "execution_count": null,
   "metadata": {},
   "outputs": [],
   "source": []
  }
 ],
 "metadata": {
  "kernelspec": {
   "display_name": "Python 3",
   "language": "python",
   "name": "python3"
  },
  "language_info": {
   "codemirror_mode": {
    "name": "ipython",
    "version": 3
   },
   "file_extension": ".py",
   "mimetype": "text/x-python",
   "name": "python",
   "nbconvert_exporter": "python",
   "pygments_lexer": "ipython3",
   "version": "3.7.4"
  }
 },
 "nbformat": 4,
 "nbformat_minor": 2
}
